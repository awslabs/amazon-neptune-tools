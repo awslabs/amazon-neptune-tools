{
 "cells": [
  {
   "cell_type": "code",
   "execution_count": null,
   "metadata": {},
   "outputs": [],
   "source": [
    "run -i csv_converter.py -h"
   ]
  },
  {
   "cell_type": "code",
   "execution_count": null,
   "metadata": {},
   "outputs": [],
   "source": [
    "%%bash\n",
    "# clean the source and data folders\n",
    "rm -rf .data\n",
    "rm -rf .source\n"
   ]
  },
  {
   "cell_type": "code",
   "execution_count": null,
   "metadata": {},
   "outputs": [],
   "source": [
    "%run -i csv_converter.py -v ./data-config-spotify.json --s3"
   ]
  },
  {
   "cell_type": "code",
   "execution_count": null,
   "metadata": {},
   "outputs": [],
   "source": [
    "%tb"
   ]
  },
  {
   "cell_type": "code",
   "execution_count": null,
   "metadata": {},
   "outputs": [],
   "source": [
    "%%bash\n",
    "pwd\n",
    "ls\n",
    "echo '.source'\n",
    "ls -l .source\n",
    "echo '.data'\n",
    "ls -l .data\n"
   ]
  },
  {
   "cell_type": "code",
   "execution_count": null,
   "metadata": {},
   "outputs": [],
   "source": [
    "# Generate the token to reset and clean the database\n",
    "%db_reset --generate-token"
   ]
  },
  {
   "cell_type": "code",
   "execution_count": null,
   "metadata": {},
   "outputs": [],
   "source": [
    "# Use the token generated via --generate-token here\n",
    "%db_reset --token 3ebbc751-40e8-44d8-99c8-fad1213e9be4"
   ]
  },
  {
   "cell_type": "code",
   "execution_count": null,
   "metadata": {},
   "outputs": [],
   "source": [
    "# if you just reset the db, try the %status few times to make sure it is healthy\n",
    "%status"
   ]
  },
  {
   "cell_type": "code",
   "execution_count": null,
   "metadata": {},
   "outputs": [],
   "source": [
    "%%bash\n",
    "DB_HOST=<your-db-host-url>\n",
    "awscurl --service neptune-db \\\n",
    "    -X POST \\\n",
    "    -H 'Content-Type: application/json' \\\n",
    "    https://$DB_HOST:8182/loader -d '{\n",
    "    \"source\": \"s3://<your-s3-bucket-source-folder>/\",\n",
    "    \"format\": \"csv\",\n",
    "    \"iamRoleArn\": \"arn:aws:iam::<your-aws-account>:role/<role-that-allows-reading-from-s3-to-sagemaker>\",\n",
    "    \"mode\": \"AUTO\",\n",
    "    \"region\": \"<your-aws-region>\",\n",
    "    \"failOnError\": \"FALSE\",\n",
    "    \"parallelism\": \"OVERSUBSCRIBE\",\n",
    "    \"updateSingleCardinalityProperties\": \"TRUE\"\n",
    "}'"
   ]
  },
  {
   "cell_type": "code",
   "execution_count": null,
   "metadata": {},
   "outputs": [],
   "source": [
    "%%bash\n",
    "LOAD_ID=ff90fd71-66c5-427b-be1f-f95ded45ae70\n",
    "DB_HOST=<your-db-host-url>\n",
    "awscurl --service neptune-db \\\n",
    "-X GET \\\n",
    "https://$DB_HOST:8182/loader/$LOAD_ID?details=true&errors=true"
   ]
  },
  {
   "cell_type": "code",
   "execution_count": null,
   "metadata": {},
   "outputs": [],
   "source": [
    "# s3://<your-s3-bucket-source-folder>/\n",
    "%load"
   ]
  },
  {
   "cell_type": "code",
   "execution_count": null,
   "metadata": {},
   "outputs": [],
   "source": [
    "%load_status ff90fd71-66c5-427b-be1f-f95ded45ae70"
   ]
  },
  {
   "cell_type": "code",
   "execution_count": null,
   "metadata": {},
   "outputs": [],
   "source": [
    "%%gremlin\n",
    "g.V().groupCount().by(label).unfold()"
   ]
  },
  {
   "cell_type": "code",
   "execution_count": null,
   "metadata": {},
   "outputs": [],
   "source": [
    "%%gremlin\n",
    "g.E().groupCount().by(label).unfold()"
   ]
  }
 ],
 "metadata": {
  "kernelspec": {
   "display_name": "Python 3",
   "language": "python",
   "name": "python3"
  },
  "language_info": {
   "codemirror_mode": {
    "name": "ipython",
    "version": 3
   },
   "file_extension": ".py",
   "mimetype": "text/x-python",
   "name": "python",
   "nbconvert_exporter": "python",
   "pygments_lexer": "ipython3",
   "version": "3.6.12"
  }
 },
 "nbformat": 4,
 "nbformat_minor": 4
}