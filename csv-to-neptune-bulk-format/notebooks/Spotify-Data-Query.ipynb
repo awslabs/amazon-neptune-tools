{
 "cells": [
  {
   "cell_type": "code",
   "execution_count": null,
   "metadata": {},
   "outputs": [],
   "source": [
    "%%gremlin\n",
    "g.V().groupCount().by(label).unfold()"
   ]
  },
  {
   "cell_type": "code",
   "execution_count": null,
   "metadata": {},
   "outputs": [],
   "source": [
    "%%gremlin\n",
    "g.E().groupCount().by(label).unfold()"
   ]
  },
  {
   "cell_type": "code",
   "execution_count": null,
   "metadata": {},
   "outputs": [],
   "source": [
    "%%gremlin\n",
    "\n",
    "//count for each artist\n",
    "\n",
    "g.V().hasLabel('Artist').as('art')\n",
    ".in('BY_ARTIST').select('art')\n",
    ".groupCount().by('name').order(local).by(values,desc).unfold()"
   ]
  },
  {
   "cell_type": "code",
   "execution_count": null,
   "metadata": {},
   "outputs": [],
   "source": [
    "%%gremlin \n",
    "// given an artist, find tracks\n",
    "\n",
    "g.V()\n",
    ".has('name', 'Martin Garrix')\n",
    ".hasLabel('Artist').as('art')\n",
    ".in('BY_ARTIST').as('trk')\n",
    ".valueMap('track_name')\n"
   ]
  },
  {
   "cell_type": "code",
   "execution_count": null,
   "metadata": {},
   "outputs": [],
   "source": [
    "%%gremlin \n",
    "// given an artist, find Albums\n",
    "\n",
    "g.V()\n",
    ".has('name', 'Martin Garrix')\n",
    ".hasLabel('Artist').as('art')\n",
    ".in('BY_ARTIST').as('trk')\n",
    ".out('IN_ALBUM').as('alb')\n",
    ".order().by('name')\n",
    ".dedup()\n",
    ".valueMap(true)\n"
   ]
  },
  {
   "cell_type": "code",
   "execution_count": null,
   "metadata": {},
   "outputs": [],
   "source": [
    "%%gremlin\n",
    "// find playlists for Genre\n",
    "g.V().hasLabel('Genre').has('name', 'pop')\n",
    ".in('HAS_GENRE')\n",
    ".valueMap('name')"
   ]
  },
  {
   "cell_type": "markdown",
   "metadata": {},
   "source": [
    "# Validate Notebook configuration\n",
    "Execute `%graph_notebook_config` to find the configuration\n",
    "\n",
    "The \"auth_mode\" should be \"IAM\", if it is \"DEFAULT\"\n",
    "\n",
    "    Execute `%%graph_notebook_config`\n",
    "        with output from `%graph_notebook_config` copied over, and\n",
    "        replacing \"auth_mode\" to \"IAM\"\n",
    "\n",
    "Execute `%status` to check the connectivity\n",
    "\n",
    "The \"status\" should be \"healthy\"\n"
   ]
  },
  {
   "cell_type": "code",
   "execution_count": null,
   "metadata": {},
   "outputs": [],
   "source": [
    "%status"
   ]
  },
  {
   "cell_type": "code",
   "execution_count": null,
   "metadata": {},
   "outputs": [],
   "source": [
    "%graph_notebook_config"
   ]
  },
  {
   "cell_type": "code",
   "execution_count": null,
   "metadata": {},
   "outputs": [],
   "source": [
    "%%graph_notebook_config\n",
    "{\n",
    "  \"host\": \"<your-db-host-name>\",\n",
    "  \"port\": 8182,\n",
    "  \"auth_mode\": \"IAM\",\n",
    "  \"iam_credentials_provider_type\": \"ROLE\",\n",
    "  \"load_from_s3_arn\": \"arn:aws:iam::<your-aws-account>:role/<role-that-allows-reading-from-s3-to-sagemaker>\",\n",
    "  \"ssl\": true,\n",
    "  \"aws_region\": \"<your-region>\",\n",
    "  \"sparql\": {\n",
    "    \"endpoint_prefix\": \"\"\n",
    "  }\n",
    "}"
   ]
  }
 ],
 "metadata": {
  "kernelspec": {
   "display_name": "Python 3",
   "language": "python",
   "name": "python3"
  },
  "language_info": {
   "codemirror_mode": {
    "name": "ipython",
    "version": 3
   },
   "file_extension": ".py",
   "mimetype": "text/x-python",
   "name": "python",
   "nbconvert_exporter": "python",
   "pygments_lexer": "ipython3",
   "version": "3.6.12"
  }
 },
 "nbformat": 4,
 "nbformat_minor": 4
}